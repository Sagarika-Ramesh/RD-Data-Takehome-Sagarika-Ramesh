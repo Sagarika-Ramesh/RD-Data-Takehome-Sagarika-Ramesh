{
 "cells": [
  {
   "cell_type": "code",
   "execution_count": 216,
   "id": "b40ef440",
   "metadata": {},
   "outputs": [
    {
     "data": {
      "text/plain": [
       "'METHOD 2 OF DATASET CREATION\\n\\nimport os\\nimport shutil\\nimport random\\n\\n# Specify the path to the source dataset directory\\nsource_dir = \"../celeba_dataset/img_align_celeba\"\\n\\n# Specify the path to the destination directory\\ndestination_dir = \"../celeba_dataset/celeb_faces_real\"\\n\\n# Number of images to randomly select and copy\\nnum_images_to_copy = 400\\n\\n# Create the destination directory if it doesn\\'t exist\\nos.makedirs(destination_dir, exist_ok=True)\\n\\n# List all image files in the source directory\\nimage_files = os.listdir(source_dir)\\n\\n# Randomly select images\\nselected_images = random.sample(image_files, num_images_to_copy)\\n\\n# Copy selected images to the destination directory\\nfor image in selected_images:\\n    src_path = os.path.join(source_dir, image)\\n    dst_path = os.path.join(destination_dir, image)\\n    shutil.copy(src_path, dst_path)\\n\\nprint(f\"Selected and copied {num_images_to_copy} random images to the destination directory.\")\\n\\ndataset = keras.utils.image_dataset_from_directory(\\n    \"../celeb_faces_real\", label_mode=None, image_size=(64, 64), batch_size=32\\n)\\ndataset = dataset.map(lambda x: x / 255.0)\\n\\nimage_path = \"../celeb_faces_real/000049.jpg\"\\n\\n# Open the image using PIL\\nimg = Image.open(image_path)\\n\\n# Get the size (dimensions) of the image\\nwidth, height = img.size\\nprint(width, height)\\n\\nfor x in dataset:\\n    plt.axis(\"off\")\\n    plt.imshow((x.numpy() * 255).astype(\"int32\")[0])\\n    break\\n    \\n'"
      ]
     },
     "execution_count": 216,
     "metadata": {},
     "output_type": "execute_result"
    }
   ],
   "source": [
    "\"\"\"METHOD 2 OF DATASET CREATION\n",
    "\n",
    "import os\n",
    "import shutil\n",
    "import random\n",
    "\n",
    "# Specify the path to the source dataset directory\n",
    "source_dir = \"../celeba_dataset/img_align_celeba\"\n",
    "\n",
    "# Specify the path to the destination directory\n",
    "destination_dir = \"../celeba_dataset/celeb_faces_real\"\n",
    "\n",
    "# Number of images to randomly select and copy\n",
    "num_images_to_copy = 400\n",
    "\n",
    "# Create the destination directory if it doesn't exist\n",
    "os.makedirs(destination_dir, exist_ok=True)\n",
    "\n",
    "# List all image files in the source directory\n",
    "image_files = os.listdir(source_dir)\n",
    "\n",
    "# Randomly select images\n",
    "selected_images = random.sample(image_files, num_images_to_copy)\n",
    "\n",
    "# Copy selected images to the destination directory\n",
    "for image in selected_images:\n",
    "    src_path = os.path.join(source_dir, image)\n",
    "    dst_path = os.path.join(destination_dir, image)\n",
    "    shutil.copy(src_path, dst_path)\n",
    "\n",
    "print(f\"Selected and copied {num_images_to_copy} random images to the destination directory.\")\n",
    "\n",
    "dataset = keras.utils.image_dataset_from_directory(\n",
    "    \"../celeb_faces_real\", label_mode=None, image_size=(64, 64), batch_size=32\n",
    ")\n",
    "dataset = dataset.map(lambda x: x / 255.0)\n",
    "\n",
    "image_path = \"../celeb_faces_real/000049.jpg\"\n",
    "\n",
    "# Open the image using PIL\n",
    "img = Image.open(image_path)\n",
    "\n",
    "# Get the size (dimensions) of the image\n",
    "width, height = img.size\n",
    "print(width, height)\n",
    "\n",
    "for x in dataset:\n",
    "    plt.axis(\"off\")\n",
    "    plt.imshow((x.numpy() * 255).astype(\"int32\")[0])\n",
    "    break\n",
    "    \n",
    "\"\"\"\n"
   ]
  },
  {
   "cell_type": "code",
   "execution_count": 217,
   "id": "ad8e51e4",
   "metadata": {},
   "outputs": [
    {
     "data": {
      "text/plain": [
       "'discriminator = keras.Sequential(\\n    [\\n        keras.Input(shape=(64, 64, 3)),\\n        layers.Conv2D(64, kernel_size=4, strides=2, padding=\"same\"),\\n        layers.LeakyReLU(alpha=0.2),\\n        layers.Conv2D(128, kernel_size=4, strides=2, padding=\"same\"),\\n        layers.LeakyReLU(alpha=0.2),\\n        layers.Conv2D(128, kernel_size=4, strides=2, padding=\"same\"),\\n        layers.LeakyReLU(alpha=0.2),\\n        layers.Flatten(),\\n        layers.Dropout(0.2),\\n        layers.Dense(1, activation=\"sigmoid\"),\\n    ],\\n    name=\"discriminator\",\\n)\\ndiscriminator.summary()\\n\\nlatent_dim = 128\\n\\ngenerator = keras.Sequential(\\n    [\\n        keras.Input(shape=(latent_dim,)),\\n        layers.Dense(8 * 8 * 128),\\n        layers.Reshape((8, 8, 128)),\\n        layers.Conv2DTranspose(128, kernel_size=4, strides=2, padding=\"same\"),\\n        layers.LeakyReLU(alpha=0.2),\\n        layers.Conv2DTranspose(256, kernel_size=4, strides=2, padding=\"same\"),\\n        layers.LeakyReLU(alpha=0.2),\\n        layers.Conv2DTranspose(512, kernel_size=4, strides=2, padding=\"same\"),\\n        layers.LeakyReLU(alpha=0.2),\\n        layers.Conv2D(3, kernel_size=5, padding=\"same\", activation=\"sigmoid\"),\\n    ],\\n    name=\"generator\",\\n)\\ngenerator.summary()\\n\\nclass GAN(keras.Model):\\n    def __init__(self, discriminator, generator, latent_dim):\\n        super().__init__()\\n        self.discriminator = discriminator\\n        self.generator = generator\\n        self.latent_dim = latent_dim\\n\\n    def compile(self, d_optimizer, g_optimizer, loss_fn):\\n        super().compile()\\n        self.d_optimizer = d_optimizer\\n        self.g_optimizer = g_optimizer\\n        self.loss_fn = loss_fn\\n        self.d_loss_metric = keras.metrics.Mean(name=\"d_loss\")\\n        self.g_loss_metric = keras.metrics.Mean(name=\"g_loss\")\\n\\n    @property\\n    def metrics(self):\\n        return [self.d_loss_metric, self.g_loss_metric]\\n        \\n    class GANMonitor(keras.callbacks.Callback):\\n    def __init__(self, num_img=3, latent_dim=128):\\n        self.num_img = num_img\\n        self.latent_dim = latent_dim\\n\\n    def on_epoch_end(self, epoch, logs=None):\\n        random_latent_vectors = tf.random.normal(shape=(self.num_img, self.latent_dim))\\n        generated_images = self.model.generator(random_latent_vectors)\\n        generated_images *= 255\\n        generated_images.numpy()\\n        for i in range(self.num_img):\\n            img = keras.utils.array_to_img(generated_images[i])\\n            img.save(\"generated_img_%03d_%d.png\" % (epoch, i))\\n        \\n\\n'"
      ]
     },
     "execution_count": 217,
     "metadata": {},
     "output_type": "execute_result"
    }
   ],
   "source": [
    "\"\"\"discriminator = keras.Sequential(\n",
    "    [\n",
    "        keras.Input(shape=(64, 64, 3)),\n",
    "        layers.Conv2D(64, kernel_size=4, strides=2, padding=\"same\"),\n",
    "        layers.LeakyReLU(alpha=0.2),\n",
    "        layers.Conv2D(128, kernel_size=4, strides=2, padding=\"same\"),\n",
    "        layers.LeakyReLU(alpha=0.2),\n",
    "        layers.Conv2D(128, kernel_size=4, strides=2, padding=\"same\"),\n",
    "        layers.LeakyReLU(alpha=0.2),\n",
    "        layers.Flatten(),\n",
    "        layers.Dropout(0.2),\n",
    "        layers.Dense(1, activation=\"sigmoid\"),\n",
    "    ],\n",
    "    name=\"discriminator\",\n",
    ")\n",
    "discriminator.summary()\n",
    "\n",
    "latent_dim = 128\n",
    "\n",
    "generator = keras.Sequential(\n",
    "    [\n",
    "        keras.Input(shape=(latent_dim,)),\n",
    "        layers.Dense(8 * 8 * 128),\n",
    "        layers.Reshape((8, 8, 128)),\n",
    "        layers.Conv2DTranspose(128, kernel_size=4, strides=2, padding=\"same\"),\n",
    "        layers.LeakyReLU(alpha=0.2),\n",
    "        layers.Conv2DTranspose(256, kernel_size=4, strides=2, padding=\"same\"),\n",
    "        layers.LeakyReLU(alpha=0.2),\n",
    "        layers.Conv2DTranspose(512, kernel_size=4, strides=2, padding=\"same\"),\n",
    "        layers.LeakyReLU(alpha=0.2),\n",
    "        layers.Conv2D(3, kernel_size=5, padding=\"same\", activation=\"sigmoid\"),\n",
    "    ],\n",
    "    name=\"generator\",\n",
    ")\n",
    "generator.summary()\n",
    "\n",
    "class GAN(keras.Model):\n",
    "    def __init__(self, discriminator, generator, latent_dim):\n",
    "        super().__init__()\n",
    "        self.discriminator = discriminator\n",
    "        self.generator = generator\n",
    "        self.latent_dim = latent_dim\n",
    "\n",
    "    def compile(self, d_optimizer, g_optimizer, loss_fn):\n",
    "        super().compile()\n",
    "        self.d_optimizer = d_optimizer\n",
    "        self.g_optimizer = g_optimizer\n",
    "        self.loss_fn = loss_fn\n",
    "        self.d_loss_metric = keras.metrics.Mean(name=\"d_loss\")\n",
    "        self.g_loss_metric = keras.metrics.Mean(name=\"g_loss\")\n",
    "\n",
    "    @property\n",
    "    def metrics(self):\n",
    "        return [self.d_loss_metric, self.g_loss_metric]\n",
    "        \n",
    "    class GANMonitor(keras.callbacks.Callback):\n",
    "    def __init__(self, num_img=3, latent_dim=128):\n",
    "        self.num_img = num_img\n",
    "        self.latent_dim = latent_dim\n",
    "\n",
    "    def on_epoch_end(self, epoch, logs=None):\n",
    "        random_latent_vectors = tf.random.normal(shape=(self.num_img, self.latent_dim))\n",
    "        generated_images = self.model.generator(random_latent_vectors)\n",
    "        generated_images *= 255\n",
    "        generated_images.numpy()\n",
    "        for i in range(self.num_img):\n",
    "            img = keras.utils.array_to_img(generated_images[i])\n",
    "            img.save(\"generated_img_%03d_%d.png\" % (epoch, i))\n",
    "        \n",
    "\n",
    "\"\"\""
   ]
  },
  {
   "cell_type": "code",
   "execution_count": 79,
   "id": "9b0d8fe8",
   "metadata": {},
   "outputs": [],
   "source": [
    "\"\"\"class GANMonitor(keras.callbacks.Callback):\n",
    "    def __init__(self, num_img=3, latent_dim=128,  image_size=(178, 218)):\n",
    "        self.num_img = num_img\n",
    "        self.latent_dim = latent_dim\n",
    "        self.image_size = image_size\n",
    "\n",
    "    def on_epoch_end(self, epoch, logs=None):\n",
    "        random_latent_vectors = tf.random.normal(shape=(self.num_img, self.latent_dim))\n",
    "        generated_images = self.model.generator(random_latent_vectors)\n",
    "        generated_images *= 255\n",
    "        generated_images.numpy()\n",
    "        for i in range(self.num_img):\n",
    "            img = keras.utils.array_to_img(generated_images[i])\n",
    "            img = img.resize(self.image_size)\n",
    "            img.save(\"generated_img_%03d_%d.png\" % (epoch, i))\n",
    "            def train_step(self, real_images):\n",
    "        # Sample random points in the latent space\n",
    "        batch_size = tf.shape(real_images)[0]\n",
    "        random_latent_vectors = tf.random.normal(shape=(batch_size, self.latent_dim))\n",
    "\n",
    "        # Decode them to fake images\n",
    "        generated_images = self.generator(random_latent_vectors)\n",
    "\n",
    "        # Combine them with real images\n",
    "        combined_images = tf.concat([generated_images, real_images], axis=0)\n",
    "\n",
    "        # Assemble labels discriminating real from fake images\n",
    "        labels = tf.concat(\n",
    "            [tf.ones((batch_size, 1)), tf.zeros((batch_size, 1))], axis=0\n",
    "        )\n",
    "        # Add random noise to the labels - important trick!\n",
    "        labels += 0.05 * tf.random.uniform(tf.shape(labels))\n",
    "\n",
    "        # Train the discriminator\n",
    "        with tf.GradientTape() as tape:\n",
    "            predictions = self.discriminator(combined_images)\n",
    "            d_loss = self.loss_fn(labels, predictions)\n",
    "        grads = tape.gradient(d_loss, self.discriminator.trainable_weights)\n",
    "        self.d_optimizer.apply_gradients(\n",
    "            zip(grads, self.discriminator.trainable_weights)\n",
    "        )\n",
    "\n",
    "        # Sample random points in the latent space\n",
    "        random_latent_vectors = tf.random.normal(shape=(batch_size, self.latent_dim))\n",
    "\n",
    "        # Assemble labels that say \"all real images\"\n",
    "        misleading_labels = tf.zeros((batch_size, 1))\n",
    "\n",
    "        # Train the generator (note that we should *not* update the weights\n",
    "        # of the discriminator)!\n",
    "        with tf.GradientTape() as tape:\n",
    "            predictions = self.discriminator(self.generator(random_latent_vectors))\n",
    "            g_loss = self.loss_fn(misleading_labels, predictions)\n",
    "        grads = tape.gradient(g_loss, self.generator.trainable_weights)\n",
    "        self.g_optimizer.apply_gradients(zip(grads, self.generator.trainable_weights))\n",
    "\n",
    "        # Update metrics\n",
    "        self.d_loss_metric.update_state(d_loss)\n",
    "        self.g_loss_metric.update_state(g_loss)\n",
    "        return {\n",
    "            \"d_loss\": self.d_loss_metric.result(),\n",
    "            \"g_loss\": self.g_loss_metric.result(),\n",
    "            epochs = 30  # In practice, use ~100 epochs\n",
    "\n",
    "gan = GAN(discriminator=discriminator, generator=generator, latent_dim=latent_dim)\n",
    "gan.compile(\n",
    "    d_optimizer=keras.optimizers.Adam(learning_rate=0.0001),\n",
    "    g_optimizer=keras.optimizers.Adam(learning_rate=0.0001),\n",
    "    loss_fn=keras.losses.BinaryCrossentropy(),\n",
    ")\n",
    "\n",
    "gan.fit(\n",
    "    dataset, epochs=epochs, callbacks=[GANMonitor(num_img=20, latent_dim=latent_dim)]\n",
    ")\n",
    "        }\n",
    "        \n",
    "        \n",
    "\n",
    "# Specify the folder path where the generated_img.png files are located\n",
    "folder_path = \"./\"\n",
    "        #print(f\"Deleted {file_path}\")\"\"\"\n",
    "\n"
   ]
  },
  {
   "cell_type": "markdown",
   "id": "7512c56e",
   "metadata": {},
   "source": [
    "______________________"
   ]
  },
  {
   "cell_type": "code",
   "execution_count": 2,
   "id": "37c54761",
   "metadata": {
    "scrolled": true
   },
   "outputs": [
    {
     "name": "stderr",
     "output_type": "stream",
     "text": [
      "2023-09-17 21:05:59.000067: I tensorflow/core/platform/cpu_feature_guard.cc:193] This TensorFlow binary is optimized with oneAPI Deep Neural Network Library (oneDNN) to use the following CPU instructions in performance-critical operations:  AVX2 FMA\n",
      "To enable them in other operations, rebuild TensorFlow with the appropriate compiler flags.\n"
     ]
    }
   ],
   "source": [
    "import tensorflow as tf\n",
    "import numpy as np\n",
    "from tensorflow import keras\n",
    "import os\n",
    "from tensorflow.keras.preprocessing.image import ImageDataGenerator\n",
    "from tensorflow.keras.preprocessing import image\n",
    "import matplotlib.pyplot as plt\n",
    "#from keras_vggface.vggface import VGGFace\n",
    "from keras.models import Sequential, Model\n",
    "from keras.layers import Dense, Flatten, Dropout\n",
    "from keras.optimizers import Adam, RMSprop\n",
    "from keras.preprocessing.image import ImageDataGenerator"
   ]
  },
  {
   "cell_type": "markdown",
   "id": "c689e65c",
   "metadata": {},
   "source": [
    "### DATASET CREATION\n",
    "\n",
    "The below code is written to organize a dataset of face images into training and validation sets. My goal is to split the dataset with an 80/20 ratio.\n",
    "I've defined source and destination directories for my dataset.\n",
    "To ensure randomness in the split, I've shuffled the list of files.\n",
    "Then, I've separated the shuffled list of files into two sets: one for training and one for validation, based on the calculated split index.\n",
    "I've copied the files from the source directory to their respective training and validation directories."
   ]
  },
  {
   "cell_type": "code",
   "execution_count": 118,
   "id": "6465c07f",
   "metadata": {},
   "outputs": [
    {
     "name": "stdout",
     "output_type": "stream",
     "text": [
      "Total files: 1081, Training files: 864, Validation files: 217\n"
     ]
    }
   ],
   "source": [
    "import os\n",
    "import random\n",
    "from shutil import copyfile\n",
    "\n",
    "\n",
    "source_dir = '../dataset/face_dataset/face_real'  \n",
    "train_dir = '../dataset/face_dataset/train/face_real'  \n",
    "val_dir = '../dataset/face_dataset/validation/face_real'\n",
    "\n",
    "# Define the split ratio (e.g., 80% for training, 20% for validation)\n",
    "split_ratio = 0.8\n",
    "\n",
    "# Create destination directories if they don't exist\n",
    "os.makedirs(train_dir, exist_ok=True)\n",
    "os.makedirs(val_dir, exist_ok=True)\n",
    "\n",
    "# List all files in the source directory (assuming all files are images)\n",
    "files = os.listdir(source_dir)\n",
    "\n",
    "# Shuffle the list of files randomly\n",
    "random.shuffle(files)\n",
    "\n",
    "# Calculate the split index\n",
    "split_index = int(len(files) * split_ratio)\n",
    "\n",
    "# Split the files into training and validation sets\n",
    "train_files = files[:split_index]\n",
    "val_files = files[split_index:]\n",
    "\n",
    "# Copy the files to the respective directories\n",
    "for file in train_files:\n",
    "    src = os.path.join(source_dir, file)\n",
    "    dst = os.path.join(train_dir, file)\n",
    "    copyfile(src, dst)\n",
    "\n",
    "for file in val_files:\n",
    "    src = os.path.join(source_dir, file)\n",
    "    dst = os.path.join(val_dir, file)\n",
    "    copyfile(src, dst)\n",
    "\n",
    "print(f\"Total files: {len(files)}, Training files: {len(train_files)}, Validation files: {len(val_files)}\")\n"
   ]
  },
  {
   "cell_type": "code",
   "execution_count": 119,
   "id": "ecec0233",
   "metadata": {},
   "outputs": [
    {
     "name": "stdout",
     "output_type": "stream",
     "text": [
      "Total files: 960, Training files: 768, Validation files: 192\n"
     ]
    }
   ],
   "source": [
    "import os\n",
    "import random\n",
    "from shutil import copyfile\n",
    "\n",
    "\n",
    "source_dir = '../dataset/face_dataset/face_fake'  \n",
    "train_dir = '../dataset/face_dataset/train/face_fake'  \n",
    "val_dir = '../dataset/face_dataset/validation/face_fake'\n",
    "\n",
    "# Define the split ratio (e.g., 80% for training, 20% for validation)\n",
    "split_ratio = 0.8\n",
    "\n",
    "# Create destination directories if they don't exist\n",
    "os.makedirs(train_dir, exist_ok=True)\n",
    "os.makedirs(val_dir, exist_ok=True)\n",
    "\n",
    "# List all files in the source directory (assuming all files are images)\n",
    "files = os.listdir(source_dir)\n",
    "\n",
    "# Shuffle the list of files randomly\n",
    "random.shuffle(files)\n",
    "\n",
    "# Calculate the split index\n",
    "split_index = int(len(files) * split_ratio)\n",
    "\n",
    "# Split the files into training and validation sets\n",
    "train_files = files[:split_index]\n",
    "val_files = files[split_index:]\n",
    "\n",
    "# Copy the files to the respective directories\n",
    "for file in train_files:\n",
    "    src = os.path.join(source_dir, file)\n",
    "    dst = os.path.join(train_dir, file)\n",
    "    copyfile(src, dst)\n",
    "\n",
    "for file in val_files:\n",
    "    src = os.path.join(source_dir, file)\n",
    "    dst = os.path.join(val_dir, file)\n",
    "    copyfile(src, dst)\n",
    "\n",
    "print(f\"Total files: {len(files)}, Training files: {len(train_files)}, Validation files: {len(val_files)}\")\n"
   ]
  },
  {
   "cell_type": "raw",
   "id": "77ac7d50",
   "metadata": {},
   "source": [
    "I've configured an `ImageDataGenerator` with the following settings:\n",
    "\n",
    "I have performed Data augmentation by enabled horizontal and vertical flipping fo images, which will randomly flip some images vertically during training.\n",
    "I have performed image preprocessing by rescaled the pixel values of the images to a range between 0 and 1 (`rescale=1./255`).\n",
    "I've set a validation split of 20%.\n",
    "\n",
    "Next, I've created two data generators for training and validation data:\n",
    "\n",
    "- The `train` data generator is configured to flow from the directory \"../dataset/face_dataset/train/\". It's set to work in binary classification mode (`class_mode=\"binary\"`) and resize images to a target size of 224x224 pixels. Each batch will contain 64 images.\n",
    "- Similarly, the `val` data generator flows from the directory \"../dataset/face_dataset/validation/\", operates in binary classification mode, resizes images to 224x224 pixels, and uses batches of 64 images.\n",
    "\n",
    "These data generators will be used to load and preprocess the training and validation datasets for feeding into a deep learning model during training."
   ]
  },
  {
   "cell_type": "code",
   "execution_count": null,
   "id": "0884debb",
   "metadata": {},
   "outputs": [],
   "source": [
    "data_with_aug = ImageDataGenerator(horizontal_flip=True,\n",
    "                                   vertical_flip=True,\n",
    "                                   rescale=1./255,\n",
    "                                  validation_split=0.2)\n",
    "train = data_with_aug.flow_from_directory(\"../dataset/face_dataset/train/\",\n",
    "                                          class_mode=\"binary\",\n",
    "                                          target_size=(224, 224),\n",
    "                                          batch_size=64)\n",
    "\n",
    "val = data_with_aug.flow_from_directory(\"../dataset/face_dataset/validation/\",\n",
    "                                          class_mode=\"binary\",\n",
    "                                          target_size=(224, 224),\n",
    "                                          batch_size=64)\n",
    "test = data_with_aug.flow_from_directory(\"../dataset/face_dataset/test/\",\n",
    "                                          class_mode=\"binary\",\n",
    "                                          target_size=(224, 224),\n",
    "                                          batch_size=64)\n",
    "real_test = data_with_aug.flow_from_directory(\"../rd_test_dataset/\",\n",
    "                                          class_mode=\"binary\",\n",
    "                                          target_size=(224, 224),\n",
    "                                          batch_size=64)"
   ]
  },
  {
   "cell_type": "code",
   "execution_count": 4,
   "id": "04f299b8",
   "metadata": {},
   "outputs": [
    {
     "data": {
      "text/plain": [
       "{'face_fake': 0, 'face_real': 1}"
      ]
     },
     "execution_count": 4,
     "metadata": {},
     "output_type": "execute_result"
    }
   ],
   "source": [
    "train.class_indices"
   ]
  },
  {
   "cell_type": "code",
   "execution_count": 5,
   "id": "2cfcc5a4",
   "metadata": {},
   "outputs": [],
   "source": [
    "from keras.applications.vgg16 import VGG16\n",
    "from keras.models import Model\n",
    "from keras.layers import Dense\n",
    "from keras.layers import Flatten\n",
    "from keras.optimizers import SGD\n",
    "from keras.preprocessing.image import ImageDataGenerator"
   ]
  },
  {
   "cell_type": "raw",
   "id": "a3f77e69",
   "metadata": {},
   "source": [
    "I've harnessed the power of transfer learning to achieve higher performance in my project. For this purpose, I opted for a VGG model, notably VGG-16, which, during its development, had outperformed the competition in the ImageNet photo classification challenge.\n",
    "\n",
    "This model consists of two fundamental components: the feature extraction part, composed of VGG blocks that excel at capturing image details, and the classifier part, consisting of fully connected layers culminating in an output layer.\n",
    "\n",
    "To adapt this model to my task of discerning real from fake faces, I strategically leveraged the feature extraction segment. Here's the key strategy:\n",
    "\n",
    "- I maintained the convolutional layers' weights unaltered during training, benefiting from their ability to detect meaningful features in images.\n",
    "- I introduced a classifier segment tailored specifically to the real and fake face dataset. This classifier, composed of fully connected layers, it is designed to interpret the features extracted by the pre-trained layers and perform a binary classification, efficiently categorizing the images as either real or fake.\n",
    "\n",
    "This approach harnesses the strengths of transfer learning, making use of a pre-trained feature extractor while fine-tuning the model to excel in distinguishing between genuine and manipulated facial images."
   ]
  },
  {
   "cell_type": "code",
   "execution_count": 7,
   "id": "3b11f70e",
   "metadata": {},
   "outputs": [],
   "source": [
    "def define_model():\n",
    "\n",
    " model = VGG16(include_top=False, input_shape=(224, 224, 3))\n",
    " for layer in model.layers:\n",
    "     layer.trainable = False\n",
    "     flat1 = Flatten()(model.layers[-1].output)\n",
    "    #Fully connected layer with 2048 units and ReLU activation\n",
    "     class1 = Dense(2048, activation='relu')(flat1)\n",
    "     output = Dense(1, activation='sigmoid')(class1)#output layer with sigmoid activation function\n",
    " model = Model(inputs=model.inputs, outputs=output)\n",
    " \n",
    " model.compile(loss='binary_crossentropy',optimizer=Adam(0.0002), metrics=['acc'])\n",
    " return model"
   ]
  },
  {
   "cell_type": "raw",
   "id": "ec12be3e",
   "metadata": {},
   "source": [
    "The below code is used to create and save a plot summarizing a deep learning model's training and validation performance. It plots both the loss and accuracy over training epochs and saves the plots."
   ]
  },
  {
   "cell_type": "code",
   "execution_count": 6,
   "id": "e6cbc62b",
   "metadata": {},
   "outputs": [],
   "source": [
    "def summarize_diagnostics(history):\n",
    " # plot loss\n",
    " plt.subplot(211)\n",
    " plt.title('Cross Entropy Loss')\n",
    " plt.plot(history.history['loss'], color='blue', label='train')\n",
    " plt.plot(history.history['val_loss'], color='orange', label='val')\n",
    " # plot accuracy\n",
    " plt.subplot(212)\n",
    " plt.title('Classification Accuracy')\n",
    " plt.plot(history.history['accuracy'], color='blue', label='train')\n",
    " plt.plot(history.history['val_accuracy'], color='orange', label='val')\n",
    " # save plot to file\n",
    " filename = sys.argv[0].split('/')[-1]\n",
    " plt.savefig(filename + '_plot.png')\n",
    " plt.close()\n",
    " "
   ]
  },
  {
   "cell_type": "code",
   "execution_count": 221,
   "id": "efe09736",
   "metadata": {},
   "outputs": [],
   "source": [
    "model = define_model()"
   ]
  },
  {
   "cell_type": "code",
   "execution_count": 222,
   "id": "60466125",
   "metadata": {},
   "outputs": [
    {
     "name": "stderr",
     "output_type": "stream",
     "text": [
      "/var/folders/fg/32b6q6xx5cs1rsv6b_0g311c0000gn/T/ipykernel_47701/1498492493.py:1: UserWarning: `Model.fit_generator` is deprecated and will be removed in a future version. Please use `Model.fit`, which supports generators.\n",
      "  history = model.fit_generator(train, steps_per_epoch=len(train),\n"
     ]
    },
    {
     "name": "stdout",
     "output_type": "stream",
     "text": [
      "Epoch 1/30\n",
      "26/26 [==============================] - ETA: 0s - loss: 1.5715 - acc: 0.5270WARNING:tensorflow:AutoGraph could not transform <function Model.make_test_function.<locals>.test_function at 0x7f785c6b14c0> and will run it as-is.\n",
      "Cause: Unable to locate the source code of <function Model.make_test_function.<locals>.test_function at 0x7f785c6b14c0>. Note that functions defined in certain environments, like the interactive Python shell, do not expose their source code. If that is the case, you should define them in a .py source file. If you are certain the code is graph-compatible, wrap the call using @tf.autograph.experimental.do_not_convert. Original error: could not get source code\n",
      "To silence this warning, decorate the function with @tf.autograph.experimental.do_not_convert\n",
      "WARNING: AutoGraph could not transform <function Model.make_test_function.<locals>.test_function at 0x7f785c6b14c0> and will run it as-is.\n",
      "Cause: Unable to locate the source code of <function Model.make_test_function.<locals>.test_function at 0x7f785c6b14c0>. Note that functions defined in certain environments, like the interactive Python shell, do not expose their source code. If that is the case, you should define them in a .py source file. If you are certain the code is graph-compatible, wrap the call using @tf.autograph.experimental.do_not_convert. Original error: could not get source code\n",
      "To silence this warning, decorate the function with @tf.autograph.experimental.do_not_convert\n",
      "26/26 [==============================] - 287s 11s/step - loss: 1.5715 - acc: 0.5270 - val_loss: 0.6604 - val_acc: 0.5892\n",
      "Epoch 2/30\n",
      "26/26 [==============================] - 291s 11s/step - loss: 0.6210 - acc: 0.6624 - val_loss: 0.6136 - val_acc: 0.6748\n",
      "Epoch 3/30\n",
      "26/26 [==============================] - 285s 11s/step - loss: 0.5916 - acc: 0.6893 - val_loss: 0.6348 - val_acc: 0.6333\n",
      "Epoch 4/30\n",
      "26/26 [==============================] - 276s 11s/step - loss: 0.5786 - acc: 0.6985 - val_loss: 0.6246 - val_acc: 0.6210\n",
      "Epoch 5/30\n",
      "26/26 [==============================] - 278s 11s/step - loss: 0.5446 - acc: 0.7316 - val_loss: 0.6224 - val_acc: 0.6699\n",
      "Epoch 6/30\n",
      "26/26 [==============================] - 287s 11s/step - loss: 0.5229 - acc: 0.7377 - val_loss: 0.6128 - val_acc: 0.6797\n",
      "Epoch 7/30\n",
      "26/26 [==============================] - 326s 13s/step - loss: 0.5034 - acc: 0.7518 - val_loss: 0.6366 - val_acc: 0.6455\n",
      "Epoch 8/30\n",
      "26/26 [==============================] - 307s 12s/step - loss: 0.4859 - acc: 0.7665 - val_loss: 0.6286 - val_acc: 0.6577\n",
      "Epoch 9/30\n",
      "26/26 [==============================] - 300s 12s/step - loss: 0.5003 - acc: 0.7604 - val_loss: 0.7104 - val_acc: 0.6112\n",
      "Epoch 10/30\n",
      "26/26 [==============================] - 296s 12s/step - loss: 0.4909 - acc: 0.7659 - val_loss: 0.6802 - val_acc: 0.6504\n",
      "Epoch 11/30\n",
      "26/26 [==============================] - 332s 13s/step - loss: 0.4717 - acc: 0.7708 - val_loss: 0.6491 - val_acc: 0.6430\n",
      "Epoch 12/30\n",
      "26/26 [==============================] - 360s 14s/step - loss: 0.4140 - acc: 0.8229 - val_loss: 0.6615 - val_acc: 0.6577\n",
      "Epoch 13/30\n",
      "26/26 [==============================] - 300s 12s/step - loss: 0.4088 - acc: 0.8223 - val_loss: 0.7656 - val_acc: 0.5795\n",
      "Epoch 14/30\n",
      "26/26 [==============================] - 300s 12s/step - loss: 0.4074 - acc: 0.8205 - val_loss: 0.7044 - val_acc: 0.6406\n",
      "Epoch 15/30\n",
      "26/26 [==============================] - 1919s 76s/step - loss: 0.3987 - acc: 0.8260 - val_loss: 0.7397 - val_acc: 0.6259\n",
      "Epoch 16/30\n",
      "26/26 [==============================] - 303s 12s/step - loss: 0.3553 - acc: 0.8529 - val_loss: 0.6913 - val_acc: 0.6333\n",
      "Epoch 17/30\n",
      "26/26 [==============================] - 294s 11s/step - loss: 0.3698 - acc: 0.8431 - val_loss: 0.7666 - val_acc: 0.6235\n",
      "Epoch 18/30\n",
      "26/26 [==============================] - 298s 12s/step - loss: 0.3564 - acc: 0.8376 - val_loss: 0.6596 - val_acc: 0.6748\n",
      "Epoch 19/30\n",
      "26/26 [==============================] - 284s 11s/step - loss: 0.3586 - acc: 0.8388 - val_loss: 0.7046 - val_acc: 0.6528\n",
      "Epoch 20/30\n",
      "26/26 [==============================] - 262s 10s/step - loss: 0.3215 - acc: 0.8732 - val_loss: 0.6939 - val_acc: 0.6406\n",
      "Epoch 21/30\n",
      "26/26 [==============================] - 247s 10s/step - loss: 0.2920 - acc: 0.9001 - val_loss: 0.7315 - val_acc: 0.6064\n",
      "Epoch 22/30\n",
      "26/26 [==============================] - 232s 9s/step - loss: 0.2696 - acc: 0.9105 - val_loss: 0.7814 - val_acc: 0.6210\n",
      "Epoch 23/30\n",
      "26/26 [==============================] - 231s 9s/step - loss: 0.2811 - acc: 0.8897 - val_loss: 0.8209 - val_acc: 0.6137\n",
      "Epoch 24/30\n",
      "26/26 [==============================] - 224s 9s/step - loss: 0.2782 - acc: 0.8958 - val_loss: 0.7088 - val_acc: 0.6601\n",
      "Epoch 25/30\n",
      "26/26 [==============================] - 223s 9s/step - loss: 0.2419 - acc: 0.9246 - val_loss: 0.7639 - val_acc: 0.6504\n",
      "Epoch 26/30\n",
      "26/26 [==============================] - 220s 9s/step - loss: 0.2275 - acc: 0.9301 - val_loss: 0.7941 - val_acc: 0.6259\n",
      "Epoch 27/30\n",
      "26/26 [==============================] - 221s 9s/step - loss: 0.2119 - acc: 0.9265 - val_loss: 0.7376 - val_acc: 0.6601\n",
      "Epoch 28/30\n",
      "26/26 [==============================] - 221s 9s/step - loss: 0.2167 - acc: 0.9326 - val_loss: 0.7710 - val_acc: 0.6406\n",
      "Epoch 29/30\n",
      "26/26 [==============================] - 222s 9s/step - loss: 0.1977 - acc: 0.9412 - val_loss: 0.7964 - val_acc: 0.6210\n",
      "Epoch 30/30\n",
      "26/26 [==============================] - 229s 9s/step - loss: 0.1830 - acc: 0.9430 - val_loss: 0.7491 - val_acc: 0.6333\n"
     ]
    },
    {
     "name": "stderr",
     "output_type": "stream",
     "text": [
      "/var/folders/fg/32b6q6xx5cs1rsv6b_0g311c0000gn/T/ipykernel_47701/1498492493.py:5: UserWarning: `Model.evaluate_generator` is deprecated and will be removed in a future version. Please use `Model.evaluate`, which supports generators.\n",
      "  _, acc = model.evaluate_generator(val, steps=len(val), verbose=0)\n"
     ]
    },
    {
     "name": "stdout",
     "output_type": "stream",
     "text": [
      "> 61.369\n"
     ]
    }
   ],
   "source": [
    "history = model.fit_generator(train, steps_per_epoch=len(train),\n",
    "validation_data=val, validation_steps=len(val), epochs=30, verbose=1)\n",
    " # save model\n",
    "model.save('final_model.h5')\n",
    "_, acc = model.evaluate_generator(val, steps=len(val), verbose=0)\n",
    "print('> %.3f' % (acc * 100.0))\n"
   ]
  },
  {
   "cell_type": "code",
   "execution_count": 223,
   "id": "c5ab7684",
   "metadata": {},
   "outputs": [
    {
     "data": {
      "text/plain": [
       "[<matplotlib.lines.Line2D at 0x7f785cb06df0>]"
      ]
     },
     "execution_count": 223,
     "metadata": {},
     "output_type": "execute_result"
    },
    {
     "data": {
      "image/png": "[encoded data removed]",
      "text/plain": [
       "<Figure size 640x480 with 1 Axes>"
      ]
     },
     "metadata": {},
     "output_type": "display_data"
    }
   ],
   "source": [
    "plt.subplot(211)\n",
    "plt.title('Cross Entropy Loss')\n",
    "plt.plot(history.history['loss'], color='blue', label='train')\n",
    "plt.plot(history.history['val_loss'], color='orange', label='val')"
   ]
  },
  {
   "cell_type": "code",
   "execution_count": 227,
   "id": "2dd510f6",
   "metadata": {},
   "outputs": [
    {
     "data": {
      "text/plain": [
       "[<matplotlib.lines.Line2D at 0x7f785c6cf940>]"
      ]
     },
     "execution_count": 227,
     "metadata": {},
     "output_type": "execute_result"
    },
    {
     "data": {
      "image/png": "[encoded data removed]",
      "text/plain": [
       "<Figure size 640x480 with 1 Axes>"
      ]
     },
     "metadata": {},
     "output_type": "display_data"
    }
   ],
   "source": [
    "plt.subplot(212)\n",
    "plt.title('Classification Accuracy')\n",
    "plt.plot(history.history['acc'], color='blue', label='train')\n",
    "plt.plot(history.history['val_acc'], color='orange', label='val')"
   ]
  },
  {
   "cell_type": "code",
   "execution_count": 228,
   "id": "f4a66ad1",
   "metadata": {},
   "outputs": [],
   "source": [
    "filename = sys.argv[0].split('/')[-1]\n",
    "plt.savefig(filename + '_plot.png')\n",
    "plt.close()"
   ]
  },
  {
   "cell_type": "code",
   "execution_count": 229,
   "id": "265ff7fe",
   "metadata": {},
   "outputs": [
    {
     "name": "stdout",
     "output_type": "stream",
     "text": [
      "4/4 [==============================] - 32s 7s/step\n"
     ]
    }
   ],
   "source": [
    "y_pred = model.predict(test)\n",
    "y_test = test.classes\n"
   ]
  },
  {
   "cell_type": "code",
   "execution_count": 230,
   "id": "9070568d",
   "metadata": {},
   "outputs": [
    {
     "name": "stdout",
     "output_type": "stream",
     "text": [
      "Accuracy: 50.00%\n"
     ]
    }
   ],
   "source": [
    "#print(\"ROC-AUC Score:\", metrics.roc_auc_score(y_test, y_pred))\n",
    "\n",
    "threshold = 0.5\n",
    "pred = (y_pred > threshold).astype(int)\n",
    "\n",
    "accuracy = (pred == y_test).mean()\n",
    "\n",
    "print(f\"Accuracy: {accuracy * 100:.2f}%\")"
   ]
  },
  {
   "cell_type": "raw",
   "id": "860627e5",
   "metadata": {},
   "source": [
    "1. Design & build a small dataset (about 100+ images) to differentiate between real and fake face images. Please explain:\n",
    "   \n",
    " \n",
    "a. Considerations that went into deciding what data to collect.\n",
    "Answer: \n",
    "I have tried to build the dataset using 2 different methods:\n",
    "Method1:\n",
    "Data for Train and Validation:\n",
    "Real images are obtained from Flickr. (Flickr-Faces-HQ (FFHQ)). 1082 random images are selected.\n",
    "Fake images are obtained from A Style-Based Generator Architecture for Generative Adversarial Networks created by\n",
    "Tero Karras (NVIDIA), Samuli Laine (NVIDIA), Timo Aila (NVIDIA). It is made publicly available for research purposes.\n",
    "961 random images are selected. The data set is not imbalanced. There is no bias as the dataset contains people from different regions, race, age, gender and pose.\n",
    "\n",
    "Data for Test(Unseen Data):\n",
    "For test set, I have collected data from seperate source to avoid data leakage. Data is obtained from Computational Intelligence and Photography Lab,Department of Computer Science, Yonsei University.\n",
    "The data is expert-generated high-quality photoshopped face images. These images are not obtained from GAN.\n",
    "\n",
    "Method2:\n",
    "I have chosen to use CelebA data. \n",
    "Firstly, I wanted a data set that is publicly accessible to everyone.\n",
    "CelebA data contains 200,000+ images of celebrity faces and it includes diversity with people belonging to different races, genders,and ages. This data can be used as Real face Images.\n",
    "Fake Face images are then created using DCGAN(Deep Convolutional Generative Adversarial Network). \n",
    "I tried to generate fake face images using this method but it was very time consuming to train the model and generate a deep fake face image. \n",
    "\n",
    "b. How you went about collecting the data.\n",
    "Answer: I randomly selected around 1000 images from both fake and real images.\n",
    "For test dataset, seperate source is used and around 200 of real and fake images are collected.\n",
    "These images are placed under dataset folder.\n",
    "--\n",
    "Data set was downloaded from http://mmlab.ie.cuhk.edu.hk/projects/CelebA.html website.\n",
    "I select random 400 images from that dataset to create celeb_face_real dataset.\n",
    "DCGA(Deep convolutional generative Adversarial network)was used to generate fake face images from the real face images. 80 epochs are run and the images generated after each epoch are stored in celeb_face_fake folder.\n",
    "\n",
    "\n",
    "c. Besides fake/real labels, what other labels would you consider? Explain a simple method to sample a uniform dataset in the i.i.d sense, given the labels.\n",
    "Answer: Beside real/fake labels, I can consider the facial expression of a person(angry, sad, happy..) as labels. \n",
    "I can also try to recognize try to classify as a person with glasses or without glasses. \n",
    "There are many more.\n",
    "\n",
    "d. What API (e.g Pandas, etc.) you used to store and organize meta information about the dataset.\n",
    "Answer:YAML file is used to store information about the image dataset in a structured format.\n",
    "        It contains dataset name, creation date, author name, classes/categories, number of images, size and resolution of images, version of the meta data.\n",
    "\n",
    "e. Please share your mini-dataset as a zip file\n",
    "The zipfile is in the dataset folder"
   ]
  },
  {
   "cell_type": "code",
   "execution_count": 9,
   "id": "41e03936",
   "metadata": {},
   "outputs": [],
   "source": [
    "def define_cnn_model():\n",
    "    model_cnn = keras.Sequential()\n",
    "    model_cnn.add(keras.layers.Conv2D(32,(3,3),activation='relu',input_shape=(224,224,3)))\n",
    "    model_cnn.add(keras.layers.MaxPool2D(2,2))\n",
    "    model_cnn.add(keras.layers.Conv2D(64,(3,3),activation='relu'))\n",
    "    model_cnn.add(keras.layers.MaxPool2D(2,2))\n",
    "\n",
    "    model_cnn.add(keras.layers.Conv2D(128,(3,3),activation='relu'))\n",
    "    model_cnn.add(keras.layers.MaxPool2D(2,2))\n",
    "\n",
    "    model_cnn.add(keras.layers.Conv2D(128,(3,3),activation='relu'))\n",
    "    model_cnn.add(keras.layers.MaxPool2D(2,2))\n",
    "\n",
    "    model_cnn.add(keras.layers.Flatten())\n",
    "\n",
    "    model_cnn.add(keras.layers.Dense(512,activation='relu'))\n",
    "\n",
    "    model_cnn.add(keras.layers.Dense(1,activation='sigmoid'))\n",
    "    model_cnn.compile(loss='binary_crossentropy',optimizer=Adam(0.0002), metrics=['acc'])\n",
    "    return model_cnn\n",
    " \n",
    "\n",
    "model_cnn = define_cnn_model()"
   ]
  },
  {
   "cell_type": "code",
   "execution_count": null,
   "id": "639c9647",
   "metadata": {},
   "outputs": [
    {
     "name": "stdout",
     "output_type": "stream",
     "text": [
      "Epoch 1/50\n",
      "25/25 [==============================] - 592s 24s/step - loss: 0.1634 - acc: 0.9490 - val_loss: 0.8389 - val_acc: 0.6406\n",
      "Epoch 2/50\n",
      "10/25 [===========>..................] - ETA: 6:56 - loss: 0.1794 - acc: 0.9359"
     ]
    }
   ],
   "source": [
    "hist2 = model_cnn.fit(train,\n",
    "         steps_per_epoch = 25,\n",
    "         epochs = 50,\n",
    "         validation_data = val)\n",
    "\n",
    "model_cnn.save('final2_model.h5')\n",
    "_, acc = model_cnn.evaluate(val, steps=len(val), verbose=0)\n",
    "print('> %.3f' % (acc * 100.0))\n"
   ]
  },
  {
   "cell_type": "code",
   "execution_count": 10,
   "id": "5ed774fc",
   "metadata": {},
   "outputs": [
    {
     "ename": "NameError",
     "evalue": "name 'hist2' is not defined",
     "output_type": "error",
     "traceback": [
      "\u001b[0;31m---------------------------------------------------------------------------\u001b[0m",
      "\u001b[0;31mNameError\u001b[0m                                 Traceback (most recent call last)",
      "\u001b[0;32m/var/folders/fg/32b6q6xx5cs1rsv6b_0g311c0000gn/T/ipykernel_76361/1639794579.py\u001b[0m in \u001b[0;36m<module>\u001b[0;34m\u001b[0m\n\u001b[1;32m      1\u001b[0m \u001b[0mplt\u001b[0m\u001b[0;34m.\u001b[0m\u001b[0msubplot\u001b[0m\u001b[0;34m(\u001b[0m\u001b[0;36m211\u001b[0m\u001b[0;34m)\u001b[0m\u001b[0;34m\u001b[0m\u001b[0;34m\u001b[0m\u001b[0m\n\u001b[1;32m      2\u001b[0m \u001b[0mplt\u001b[0m\u001b[0;34m.\u001b[0m\u001b[0mtitle\u001b[0m\u001b[0;34m(\u001b[0m\u001b[0;34m'Cross Entropy Loss'\u001b[0m\u001b[0;34m)\u001b[0m\u001b[0;34m\u001b[0m\u001b[0;34m\u001b[0m\u001b[0m\n\u001b[0;32m----> 3\u001b[0;31m \u001b[0mplt\u001b[0m\u001b[0;34m.\u001b[0m\u001b[0mplot\u001b[0m\u001b[0;34m(\u001b[0m\u001b[0mhist2\u001b[0m\u001b[0;34m.\u001b[0m\u001b[0mhistory\u001b[0m\u001b[0;34m[\u001b[0m\u001b[0;34m'loss'\u001b[0m\u001b[0;34m]\u001b[0m\u001b[0;34m,\u001b[0m \u001b[0mcolor\u001b[0m\u001b[0;34m=\u001b[0m\u001b[0;34m'blue'\u001b[0m\u001b[0;34m,\u001b[0m \u001b[0mlabel\u001b[0m\u001b[0;34m=\u001b[0m\u001b[0;34m'train'\u001b[0m\u001b[0;34m)\u001b[0m\u001b[0;34m\u001b[0m\u001b[0;34m\u001b[0m\u001b[0m\n\u001b[0m\u001b[1;32m      4\u001b[0m \u001b[0mplt\u001b[0m\u001b[0;34m.\u001b[0m\u001b[0mplot\u001b[0m\u001b[0;34m(\u001b[0m\u001b[0mhist2\u001b[0m\u001b[0;34m.\u001b[0m\u001b[0mhistory\u001b[0m\u001b[0;34m[\u001b[0m\u001b[0;34m'val_loss'\u001b[0m\u001b[0;34m]\u001b[0m\u001b[0;34m,\u001b[0m \u001b[0mcolor\u001b[0m\u001b[0;34m=\u001b[0m\u001b[0;34m'orange'\u001b[0m\u001b[0;34m,\u001b[0m \u001b[0mlabel\u001b[0m\u001b[0;34m=\u001b[0m\u001b[0;34m'val'\u001b[0m\u001b[0;34m)\u001b[0m\u001b[0;34m\u001b[0m\u001b[0;34m\u001b[0m\u001b[0m\n",
      "\u001b[0;31mNameError\u001b[0m: name 'hist2' is not defined"
     ]
    },
    {
     "data": {
      "image/png": "[encoded data removed]",
      "text/plain": [
       "<Figure size 640x480 with 1 Axes>"
      ]
     },
     "metadata": {},
     "output_type": "display_data"
    }
   ],
   "source": [
    "plt.subplot(211)\n",
    "plt.title('Cross Entropy Loss')\n",
    "plt.plot(hist2.history['loss'], color='blue', label='train')\n",
    "plt.plot(hist2.history['val_loss'], color='orange', label='val')"
   ]
  },
  {
   "cell_type": "code",
   "execution_count": 236,
   "id": "5f73d94b",
   "metadata": {},
   "outputs": [
    {
     "data": {
      "text/plain": [
       "[<matplotlib.lines.Line2D at 0x7f7858dc0be0>]"
      ]
     },
     "execution_count": 236,
     "metadata": {},
     "output_type": "execute_result"
    },
    {
     "data": {
      "image/png": "[encoded data removed]",
      "text/plain": [
       "<Figure size 640x480 with 1 Axes>"
      ]
     },
     "metadata": {},
     "output_type": "display_data"
    }
   ],
   "source": [
    "plt.subplot(212)\n",
    "plt.title('Classification Accuracy')\n",
    "plt.plot(hist2.history['acc'], color='blue', label='train')\n",
    "plt.plot(hist2.history['val_acc'], color='orange', label='val')"
   ]
  },
  {
   "cell_type": "code",
   "execution_count": 11,
   "id": "ae535af3",
   "metadata": {},
   "outputs": [
    {
     "name": "stdout",
     "output_type": "stream",
     "text": [
      "4/4 [==============================] - 6s 1s/step\n"
     ]
    }
   ],
   "source": [
    "y_pred2 = model_cnn.predict(test)\n",
    "y_test2 = test.classes"
   ]
  },
  {
   "cell_type": "code",
   "execution_count": 17,
   "id": "c20e5699",
   "metadata": {},
   "outputs": [],
   "source": [
    "#import cv2\n",
    "import pandas as pd\n",
    "import numpy as np\n",
    "import tensorflow as tf\n",
    "import matplotlib.pyplot as plt\n",
    "\n",
    "from sklearn.metrics import accuracy_score, roc_auc_score\n",
    "\n",
    "from keras_vggface.vggface import VGGFace\n",
    "from keras.models import Sequential, Model\n",
    "from keras.layers import Dense, Flatten, Dropout\n",
    "\n",
    "from keras.optimizers import Adam, RMSprop\n",
    "from keras.preprocessing.image import ImageDataGenerator"
   ]
  },
  {
   "cell_type": "code",
   "execution_count": 18,
   "id": "3cde3f76",
   "metadata": {},
   "outputs": [
    {
     "name": "stdout",
     "output_type": "stream",
     "text": [
      "Downloading data from https://github.com/rcmalli/keras-vggface/releases/download/v2.0/rcmalli_vggface_tf_notop_vgg16.h5\n",
      "58909280/58909280 [==============================] - 1s 0us/step\n",
      "Model: \"model\"\n",
      "_________________________________________________________________\n",
      " Layer (type)                Output Shape              Param #   \n",
      "=================================================================\n",
      " input_1 (InputLayer)        [(None, 224, 224, 3)]     0         \n",
      "                                                                 \n",
      " conv1_1 (Conv2D)            (None, 224, 224, 64)      1792      \n",
      "                                                                 \n",
      " conv1_2 (Conv2D)            (None, 224, 224, 64)      36928     \n",
      "                                                                 \n",
      " pool1 (MaxPooling2D)        (None, 112, 112, 64)      0         \n",
      "                                                                 \n",
      " conv2_1 (Conv2D)            (None, 112, 112, 128)     73856     \n",
      "                                                                 \n",
      " conv2_2 (Conv2D)            (None, 112, 112, 128)     147584    \n",
      "                                                                 \n",
      " pool2 (MaxPooling2D)        (None, 56, 56, 128)       0         \n",
      "                                                                 \n",
      " conv3_1 (Conv2D)            (None, 56, 56, 256)       295168    \n",
      "                                                                 \n",
      " conv3_2 (Conv2D)            (None, 56, 56, 256)       590080    \n",
      "                                                                 \n",
      " conv3_3 (Conv2D)            (None, 56, 56, 256)       590080    \n",
      "                                                                 \n",
      " pool3 (MaxPooling2D)        (None, 28, 28, 256)       0         \n",
      "                                                                 \n",
      " conv4_1 (Conv2D)            (None, 28, 28, 512)       1180160   \n",
      "                                                                 \n",
      " conv4_2 (Conv2D)            (None, 28, 28, 512)       2359808   \n",
      "                                                                 \n",
      " conv4_3 (Conv2D)            (None, 28, 28, 512)       2359808   \n",
      "                                                                 \n",
      " pool4 (MaxPooling2D)        (None, 14, 14, 512)       0         \n",
      "                                                                 \n",
      " conv5_1 (Conv2D)            (None, 14, 14, 512)       2359808   \n",
      "                                                                 \n",
      " conv5_2 (Conv2D)            (None, 14, 14, 512)       2359808   \n",
      "                                                                 \n",
      " conv5_3 (Conv2D)            (None, 14, 14, 512)       2359808   \n",
      "                                                                 \n",
      " pool5 (MaxPooling2D)        (None, 7, 7, 512)         0         \n",
      "                                                                 \n",
      " flatten (Flatten)           (None, 25088)             0         \n",
      "                                                                 \n",
      " fc1 (Dense)                 (None, 2048)              51382272  \n",
      "                                                                 \n",
      " dense2 (Dense)              (None, 1)                 2049      \n",
      "                                                                 \n",
      "=================================================================\n",
      "Total params: 66,099,009\n",
      "Trainable params: 66,099,009\n",
      "Non-trainable params: 0\n",
      "_________________________________________________________________\n"
     ]
    }
   ],
   "source": [
    "vgg_model = VGGFace(include_top=False, input_shape = (224,224,3))\n",
    "\n",
    "last_layer = vgg_model.get_layer('pool5').output\n",
    "flat_layer = Flatten(name='flatten')(last_layer)\n",
    "fc1 = Dense(2048, activation='relu', name='fc1')(flat_layer)\n",
    "dense2 = Dense(1, activation='sigmoid', name='dense2')(fc1)\n",
    "\n",
    "custom_vgg_model = Model(vgg_model.input, dense2)\n",
    "custom_vgg_model.summary()"
   ]
  },
  {
   "cell_type": "code",
   "execution_count": 19,
   "id": "8cf7cf6f",
   "metadata": {},
   "outputs": [],
   "source": [
    "custom_vgg_model.compile(\n",
    "    loss='binary_crossentropy',\n",
    "    optimizer=Adam(0.0002), \n",
    "    metrics=['acc']\n",
    ")"
   ]
  },
  {
   "cell_type": "code",
   "execution_count": null,
   "id": "041da2c9",
   "metadata": {},
   "outputs": [
    {
     "name": "stderr",
     "output_type": "stream",
     "text": [
      "/var/folders/fg/32b6q6xx5cs1rsv6b_0g311c0000gn/T/ipykernel_76361/668859507.py:5: UserWarning: `Model.fit_generator` is deprecated and will be removed in a future version. Please use `Model.fit`, which supports generators.\n",
      "  history = custom_vgg_model.fit_generator(\n"
     ]
    },
    {
     "name": "stdout",
     "output_type": "stream",
     "text": [
      "Epoch 1/5\n",
      "  26/3125 [..............................] - ETA: 24:02:24 - loss: 0.7009 - acc: 0.5276WARNING:tensorflow:Your input ran out of data; interrupting training. Make sure that your dataset or generator can generate at least `steps_per_epoch * epochs` batches (in this case, 15625 batches). You may need to use the repeat() function when building your dataset.\n"
     ]
    }
   ],
   "source": [
    "batch_size = 32\n",
    "train_steps = 100000//batch_size\n",
    "valid_steps = 20000//batch_size\n",
    "\n",
    "history = custom_vgg_model.fit_generator(\n",
    "    train,\n",
    "    epochs=10,\n",
    "    steps_per_epoch=train_steps,\n",
    "    validation_data=val,\n",
    "    validation_steps=valid_steps\n",
    ")"
   ]
  },
  {
   "cell_type": "code",
   "execution_count": null,
   "id": "1ed71939",
   "metadata": {},
   "outputs": [],
   "source": [
    "custom_vgg_model.save('vggface_v1.h5')\n",
    "acc = history.history['acc']\n",
    "val_acc = history.history['val_acc']\n",
    "loss = history.history['loss']\n",
    "val_loss = history.history['val_loss']"
   ]
  },
  {
   "cell_type": "code",
   "execution_count": null,
   "id": "2fbadbb4",
   "metadata": {},
   "outputs": [],
   "source": [
    "print(\"ROC-AUC Score:\", metrics.roc_auc_score(y_test, y_pred))\n",
    "print(\"AP Score:\", metrics.average_precision_score(y_test, y_pred))\n",
    "print()\n",
    "print(metrics.classification_report(y_test, y_pred > 0.5))"
   ]
  }
 ],
 "metadata": {
  "kernelspec": {
   "display_name": "Python 3 (ipykernel)",
   "language": "python",
   "name": "python3"
  },
  "language_info": {
   "codemirror_mode": {
    "name": "ipython",
    "version": 3
   },
   "file_extension": ".py",
   "mimetype": "text/x-python",
   "name": "python",
   "nbconvert_exporter": "python",
   "pygments_lexer": "ipython3",
   "version": "3.9.13"
  }
 },
 "nbformat": 4,
 "nbformat_minor": 5
}
